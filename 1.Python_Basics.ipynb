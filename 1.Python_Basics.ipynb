{
 "cells": [
  {
   "cell_type": "markdown",
   "metadata": {
    "slideshow": {
     "slide_type": "-"
    }
   },
   "source": [
    "# Python Basics"
   ]
  },
  {
   "cell_type": "code",
   "execution_count": 1,
   "metadata": {},
   "outputs": [
    {
     "name": "stdout",
     "output_type": "stream",
     "text": [
      "Hello, Atmiyan!\n"
     ]
    }
   ],
   "source": [
    "# Printing a string\n",
    "print(\"Hello, Atmiyan!\")"
   ]
  },
  {
   "cell_type": "markdown",
   "metadata": {},
   "source": [
    "### Variables"
   ]
  },
  {
   "cell_type": "code",
   "execution_count": 2,
   "metadata": {},
   "outputs": [
    {
     "name": "stdout",
     "output_type": "stream",
     "text": [
      "10   3.146   Hello\n",
      "[10, 3.146, 13.146, 1205]\n"
     ]
    }
   ],
   "source": [
    "# defining a variable : In Python there is no need to mention the data type\n",
    "\n",
    "var1 = 10      # An integer assignment\n",
    "var2 = 3.146   # A floating point\n",
    "var3 = \"Hello\" # A string\n",
    "var4 = var1+var2\n",
    "list123=[var1,var2,var4,1205]\n",
    "\n",
    "print(var1,' ',var2,' ',var3)\n",
    "print(list123)"
   ]
  },
  {
   "cell_type": "markdown",
   "metadata": {},
   "source": [
    "### Assignment"
   ]
  },
  {
   "cell_type": "code",
   "execution_count": 3,
   "metadata": {},
   "outputs": [
    {
     "name": "stdout",
     "output_type": "stream",
     "text": [
      "3   3   3\n",
      "1   2.5   john\n"
     ]
    }
   ],
   "source": [
    "# Assigning same value to multiple variables\n",
    "\n",
    "var1 = var2 = var3 = 3\n",
    "print(var1,' ',var2,' ',var3)\n",
    "\n",
    "# Assigning Different values to variable in a single expression\n",
    "\n",
    "var1, var2, var3 = 1, 2.5, \"john\"\n",
    "print(var1,' ',var2,' ',var3)\n",
    "\n",
    "# Note: commas can be used for multi-assignments"
   ]
  },
  {
   "cell_type": "markdown",
   "metadata": {
    "slideshow": {
     "slide_type": "slide"
    }
   },
   "source": [
    "### Slicing"
   ]
  },
  {
   "cell_type": "code",
   "execution_count": 4,
   "metadata": {},
   "outputs": [
    {
     "name": "stdout",
     "output_type": "stream",
     "text": [
      "Hello Atmiyan! hgjygjy\n",
      "H\n",
      "llo\n",
      "llo Atmiyan! hgjygjy\n",
      "He\n",
      "Hello Atmiyan! hgjygjyHello Atmiyan! hgjygjy\n",
      "Hello Atmiyan! hgjygjyTEST\n"
     ]
    }
   ],
   "source": [
    "# String operations\n",
    "\n",
    "str = 'Hello Atmiyan! hgjygjy'  # A string\n",
    "\n",
    "print(str)          # Prints complete string\n",
    "print(str[0])       # Prints first character of the string\n",
    "print(str[2:5])     # Prints characters starting from 3rd to 5th\n",
    "print(str[2:])      # Prints string starting from 3rd character\n",
    "print(str[:2])\n",
    "print(str * 2)      # Prints string two times\n",
    "print(str + \"TEST\") # Prints concatenated string"
   ]
  },
  {
   "cell_type": "markdown",
   "metadata": {},
   "source": [
    "### Data types"
   ]
  },
  {
   "cell_type": "code",
   "execution_count": 5,
   "metadata": {},
   "outputs": [
    {
     "name": "stdout",
     "output_type": "stream",
     "text": [
      "['abcd', 786, 2.23, 'john', 70.2] Hello Atmiyan! hgjygjy\n",
      "abcd\n",
      "(786, 2.23)\n"
     ]
    }
   ],
   "source": [
    "# Python Lists\n",
    "list = [ 'abcd', 786 , 2.23, 'john', 70.2 ]  # A list\n",
    "tuple = ( 'abcd', 786 , 2.23, 'john', 70.2  ) # A tuple. Tuples are immutable, i.e. cannot be edit later\n",
    "\n",
    "print(list,str)            # Prints complete list\n",
    "print(list[0])         # Prints first element of the list\n",
    "print(tuple[1:3])        # Prints elements starting from 2nd till 3rd "
   ]
  },
  {
   "cell_type": "code",
   "execution_count": 6,
   "metadata": {},
   "outputs": [
    {
     "name": "stdout",
     "output_type": "stream",
     "text": [
      "{'jack': 4098, 'sape': 4139, 'guido': 4127}\n",
      "4098\n",
      "{'jack': 4098, 'guido': 4127, 'irv': 4127}\n",
      "dict_keys(['jack', 'guido', 'irv'])\n",
      "['guido', 'irv', 'jack']\n",
      "[4098, 4127, 4127]\n",
      "True\n",
      "False\n"
     ]
    }
   ],
   "source": [
    "# Lists are ordered sets of objects, whereas dictionaries are unordered sets. But the main difference is that items in dictionaries are accessed via keys and not via their position.\n",
    "tel = {'jack': 4098, 'sape': 4139}\n",
    "tel['guido'] = 4127\n",
    "print(tel)\n",
    "print(tel['jack'])\n",
    "del tel['sape']\n",
    "tel['irv'] = 4127\n",
    "print(tel)\n",
    "print(tel.keys())\n",
    "print(sorted(tel.keys()))\n",
    "print(sorted(tel.values()))\n",
    "print('guido' in tel)\n",
    "print('jack' not in tel)\n"
   ]
  },
  {
   "cell_type": "markdown",
   "metadata": {},
   "source": [
    "###  Conditioning and looping"
   ]
  },
  {
   "cell_type": "code",
   "execution_count": 7,
   "metadata": {},
   "outputs": [
    {
     "name": "stdout",
     "output_type": "stream",
     "text": [
      "Square of  0  is : 0\n",
      "1 is an odd number\n",
      "Square of  2  is : 2\n",
      "3 is an odd number\n",
      "Square of  4  is : 4\n",
      "5 is an odd number\n",
      "Square of  6  is : 6\n",
      "7 is an odd number\n",
      "Square of  8  is : 8\n",
      "9 is an odd number\n"
     ]
    }
   ],
   "source": [
    "# Square of odd numbers\n",
    "\n",
    "for i in range(0,10):\n",
    "    if i%2 == 0:\n",
    "        print(\"Square of \",i,\" is :\",i)\n",
    "    else:\n",
    "        print(i,\"is an odd number\")"
   ]
  },
  {
   "cell_type": "markdown",
   "metadata": {},
   "source": [
    "### Built-in Functions"
   ]
  },
  {
   "cell_type": "code",
   "execution_count": 8,
   "metadata": {},
   "outputs": [
    {
     "name": "stdout",
     "output_type": "stream",
     "text": [
      "Sum of array:  10\n",
      "Length of array:  4\n",
      "Absolute value:  1234\n",
      "Round value:  1\n",
      "Log value:  2.302585092994046\n"
     ]
    }
   ],
   "source": [
    "print(\"Sum of array: \",sum([1,2,3,4]))\n",
    "print(\"Length of array: \",len([1,2,3,4]))\n",
    "print(\"Absolute value: \",abs(-1234))\n",
    "print(\"Round value: \",round(1.2234))\n",
    "\n",
    "import math as mt      # importing a package\n",
    "print(\"Log value: \",mt.log(10))"
   ]
  },
  {
   "cell_type": "markdown",
   "metadata": {},
   "source": [
    "### Functions"
   ]
  },
  {
   "cell_type": "code",
   "execution_count": 9,
   "metadata": {},
   "outputs": [
    {
     "name": "stdout",
     "output_type": "stream",
     "text": [
      "Area of rectangle: 200\n"
     ]
    }
   ],
   "source": [
    "def area(length,width):\n",
    "    return length*width\n",
    "\n",
    "print(\"Area of rectangle:\",area(10,20))"
   ]
  },
  {
   "cell_type": "markdown",
   "metadata": {
    "collapsed": true
   },
   "source": [
    "### Broadcasting\n",
    "* Subject to certain constraints, the smaller array is “broadcast” across the larger array so that they have compatible shapes\n",
    "\n",
    "### NumPy \n",
    "* Numpy is the fundamental package for scientific computing with Python. It contains among other things:\n",
    "* a powerful N-dimensional array object\n",
    "* sophisticated (broadcasting) functions\n",
    "* tools for integrating C/C++ and Fortran code\n",
    "* useful linear algebra, Fourier transform, and random number capabilities"
   ]
  },
  {
   "cell_type": "code",
   "execution_count": 10,
   "metadata": {},
   "outputs": [
    {
     "name": "stdout",
     "output_type": "stream",
     "text": [
      "Matrix A\n",
      " [0 1 2]\n",
      "Matrix B\n",
      " [5 5 5]\n",
      "Regular matrix addition A+B\n",
      " [5 6 7]\n",
      "Addition using Broadcasting A+5\n",
      " [5 6 7]\n"
     ]
    }
   ],
   "source": [
    "import numpy as np   # Importing libraries\n",
    "\n",
    "a = np.array([0, 1, 2])\n",
    "b = np.array([5, 5, 5])\n",
    "\n",
    "print(\"Matrix A\\n\", a)\n",
    "print(\"Matrix B\\n\", b)\n",
    "\n",
    "print(\"Regular matrix addition A+B\\n\", a + b)\n",
    "\n",
    "print(\"Addition using Broadcasting A+5\\n\", a + 5)"
   ]
  },
  {
   "cell_type": "markdown",
   "metadata": {},
   "source": [
    "### Broadcasting Rules\n",
    "When operating on two arrays, NumPy compares their shapes element-wise. It starts with the trailing dimensions, and works its way forward. Two dimensions are compatible when\n",
    "\n",
    "1. they are equal, or\n",
    "2.  one of them is 1\n"
   ]
  },
  {
   "cell_type": "code",
   "execution_count": 11,
   "metadata": {},
   "outputs": [
    {
     "name": "stdout",
     "output_type": "stream",
     "text": [
      "Matrix C\n",
      " [[0 1 2]\n",
      " [3 4 5]\n",
      " [6 7 8]]\n",
      "Matrix D\n",
      " [[1 2 3]\n",
      " [1 2 3]\n",
      " [1 2 3]]\n",
      "Matrix E\n",
      " [[1 2 3]\n",
      " [1 2 3]\n",
      " [1 2 3]]\n",
      "Regular matrix addition C+D\n",
      " [[ 1  3  5]\n",
      " [ 4  6  8]\n",
      " [ 7  9 11]]\n",
      "Addition using Broadcasting C+E\n",
      " [[ 1  3  5]\n",
      " [ 4  6  8]\n",
      " [ 7  9 11]]\n"
     ]
    }
   ],
   "source": [
    "# Lets go for a 2D matrix\n",
    "c = np.array([[0, 1, 2],[3, 4, 5],[6, 7, 8]])\n",
    "d = np.array([[1, 2, 3],[1, 2, 3],[1, 2, 3]])\n",
    "\n",
    "e = np.array([1, 2, 3])\n",
    "\n",
    "print(\"Matrix C\\n\", c)\n",
    "print(\"Matrix D\\n\", d)\n",
    "print(\"Matrix E\\n\", d)\n",
    "\n",
    "print(\"Regular matrix addition C+D\\n\", c + d)\n",
    "\n",
    "print(\"Addition using Broadcasting C+E\\n\", c + e)"
   ]
  },
  {
   "cell_type": "code",
   "execution_count": 12,
   "metadata": {},
   "outputs": [
    {
     "name": "stdout",
     "output_type": "stream",
     "text": [
      "Matrix M:\n",
      " [[1. 1. 1.]\n",
      " [1. 1. 1.]\n",
      " [1. 1. 1.]]\n"
     ]
    }
   ],
   "source": [
    "M = np.ones((3, 3))\n",
    "print(\"Matrix M:\\n\",M)"
   ]
  },
  {
   "cell_type": "code",
   "execution_count": 13,
   "metadata": {
    "scrolled": true
   },
   "outputs": [
    {
     "name": "stdout",
     "output_type": "stream",
     "text": [
      "Dimension of M:  (3, 3)\n",
      "Dimension of a:  (3,)\n",
      "Addition using Broadcasting\n",
      "[[1. 2. 3.]\n",
      " [1. 2. 3.]\n",
      " [1. 2. 3.]]\n"
     ]
    }
   ],
   "source": [
    "print(\"Dimension of M: \",M.shape)\n",
    "print(\"Dimension of a: \",a.shape)\n",
    "print(\"Addition using Broadcasting\")\n",
    "print(M + a)\n",
    "# Broadcasting array with matrix"
   ]
  },
  {
   "cell_type": "markdown",
   "metadata": {},
   "source": [
    "## All in one program"
   ]
  },
  {
   "cell_type": "code",
   "execution_count": 14,
   "metadata": {},
   "outputs": [
    {
     "name": "stdout",
     "output_type": "stream",
     "text": [
      "Original List [10, 11, 15, 19, 21, 32] \n",
      "\n",
      "10 is not a prime number ( 2 times 5 is 10 )\n",
      "11 is a prime number\n",
      "15 is not a prime number ( 3 times 5 is 15 )\n",
      "19 is a prime number\n",
      "21 is not a prime number ( 3 times 7 is 21 )\n",
      "32 is not a prime number ( 2 times 16 is 32 )\n",
      "\n",
      "Non-prime List [10, 15, 21, 32] \n",
      "\n",
      "Time Taken to run the program: 0.008054947716738444 seconds\n"
     ]
    }
   ],
   "source": [
    "# Importing libraries\n",
    "import timeit\n",
    "\n",
    "# Usage of builtin functions\n",
    "start = timeit.default_timer()   \n",
    "\n",
    "# Defining a list\n",
    "array_list = [10,11,15,19,21,32]      \n",
    "array_np_list = []\n",
    "\n",
    "# Print the list\n",
    "print(\"Original List\",array_list,\"\\n\")   \n",
    "\n",
    "# Defining a function\n",
    "def prime(num):      \n",
    "    if num > 1:     \n",
    "        \n",
    "        # check for factors\n",
    "        # Iterating a range of numbers\n",
    "        for i in range(2,num):    \n",
    "            if (num % i) == 0:\n",
    "                \n",
    "                # Appending data to list\n",
    "                array_np_list.append(num)           \n",
    "                print(num,\"is not a prime number (\",i,\"times\",num//i,\"is\",num,\")\")\n",
    "                \n",
    "                # Terminating a loop run\n",
    "                break         \n",
    "        else:\n",
    "            print(num,\"is a prime number\")\n",
    "            \n",
    "# Iterating a list\n",
    "for item in array_list:\n",
    "    \n",
    "    # Calling a function\n",
    "    prime(item)         \n",
    "\n",
    "print(\"\\nNon-prime List\",array_np_list,\"\\n\")\n",
    "\n",
    "end = timeit.default_timer()\n",
    "\n",
    "# Computing running time\n",
    "print(\"Time Taken to run the program:\",end - start, \"seconds\")       "
   ]
  },
  {
   "cell_type": "markdown",
   "metadata": {},
   "source": [
    "### Note:\n",
    "* Python is a procedural Language\n",
    "* Two versions of Python 2 vs 3\n",
    "* No braces. i.e. indentation\n",
    "* No need to explicitly mention data type"
   ]
  },
  {
   "cell_type": "markdown",
   "metadata": {},
   "source": [
    "## Unvectorized vs Vectorized Implementations"
   ]
  },
  {
   "cell_type": "code",
   "execution_count": 15,
   "metadata": {},
   "outputs": [
    {
     "name": "stdout",
     "output_type": "stream",
     "text": [
      "Matrix A:  [[6, 7, 8], [5, 4, 5], [1, 1, 1]] \n",
      "\n",
      "Matrix B:  [[1, 2, 3], [1, 2, 3], [1, 2, 3]] \n",
      "\n",
      "Unvectorized Matrix Multiplication\n",
      " [[21, 42, 63], [14, 28, 42], [3, 6, 9]] \n",
      "\n"
     ]
    }
   ],
   "source": [
    "# Importing libraries\n",
    "import numpy as np\n",
    "\n",
    "# Defining matrices\n",
    "mat_a = [[6, 7, 8],[5, 4, 5],[1, 1, 1]]\n",
    "mat_b = [[1, 2, 3],[1, 2, 3],[1, 2, 3]]\n",
    "\n",
    "# Getting a row from matrix\n",
    "def get_row(matrix, row):\n",
    "    return matrix[row]\n",
    "\n",
    "# Getting a coloumn from matrix\n",
    "def get_column(matrix, column_number):\n",
    "    column = []\n",
    " \n",
    "    for i in range(len(matrix)):\n",
    "        column.append(matrix[i][column_number])\n",
    " \n",
    "    return column\n",
    "\n",
    "# Multiply a row with coloumn\n",
    "def unv_dot_product(vector_one, vector_two):\n",
    "    total = 0\n",
    " \n",
    "    if len(vector_one) != len(vector_two):\n",
    "        return total\n",
    " \n",
    "    for i in range(len(vector_one)):\n",
    "        product = vector_one[i] * vector_two[i]\n",
    "        total += product\n",
    " \n",
    "    return total\n",
    "\n",
    "# Multiply two matrixes\n",
    "def matrix_multiplication(matrix_one, matrix_two):\n",
    "    m_rows = len(matrix_one)\n",
    "    p_columns = len(matrix_two[0])\n",
    "    result = []\n",
    "    \n",
    "    for i in range(m_rows):\n",
    "        row_result = []\n",
    " \n",
    "        for j in range(p_columns):\n",
    "            row = get_row(matrix_one, i)\n",
    "            column = get_column(matrix_two, j)\n",
    "            product = unv_dot_product(row, column)\n",
    "            \n",
    "            row_result.append(product) \n",
    "        result.append(row_result)\n",
    "        \n",
    "    return result\n",
    "\n",
    "print(\"Matrix A: \", mat_a,\"\\n\")\n",
    "print(\"Matrix B: \", mat_b,\"\\n\")\n",
    "\n",
    "print(\"Unvectorized Matrix Multiplication\\n\",matrix_multiplication(mat_a,mat_b),\"\\n\")\n"
   ]
  },
  {
   "cell_type": "code",
   "execution_count": 16,
   "metadata": {},
   "outputs": [
    {
     "name": "stdout",
     "output_type": "stream",
     "text": [
      "Vectorized Matrix Multiplication\n",
      " [[21 42 63]\n",
      " [14 28 42]\n",
      " [ 3  6  9]] \n",
      "\n"
     ]
    }
   ],
   "source": [
    "# Vectorized Implementation\n",
    "npm_a = np.array(mat_a)\n",
    "npm_b = np.array(mat_b)\n",
    "\n",
    "print(\"Vectorized Matrix Multiplication\\n\",npm_a.dot(npm_b),\"\\n\") \n",
    "# A.dot(B) is a numpy built-in function for dot product"
   ]
  },
  {
   "cell_type": "markdown",
   "metadata": {},
   "source": [
    "### Tip:\n",
    "* Vectorization reduces number of lines of code\n",
    "* Always prefer libraries and avoid coding from scratch"
   ]
  },
  {
   "cell_type": "markdown",
   "metadata": {},
   "source": [
    "## Essential Python Packages: Numpy, Pandas, Matplotlib"
   ]
  },
  {
   "cell_type": "code",
   "execution_count": 17,
   "metadata": {},
   "outputs": [],
   "source": [
    "# Load library\n",
    "import numpy as np"
   ]
  },
  {
   "cell_type": "code",
   "execution_count": 18,
   "metadata": {},
   "outputs": [
    {
     "name": "stdout",
     "output_type": "stream",
     "text": [
      "Vector: [1 2 3 4 5 6]\n",
      "Element 2 in Vector is 2\n"
     ]
    }
   ],
   "source": [
    "# Create row vector\n",
    "vector = np.array([1, 2, 3, 4, 5, 6])\n",
    "print(\"Vector:\",vector)\n",
    "\n",
    "# Select second element\n",
    "print(\"Element 2 in Vector is\",vector[1])"
   ]
  },
  {
   "cell_type": "code",
   "execution_count": 36,
   "metadata": {},
   "outputs": [
    {
     "name": "stdout",
     "output_type": "stream",
     "text": [
      "Matrix\n",
      " [[1 2 3]\n",
      " [4 5 6]\n",
      " [7 8 9]]\n",
      "Second row of Matrix\n",
      " [4 5 6]\n",
      "Third coloumn of Matrix\n",
      " [3]\n"
     ]
    }
   ],
   "source": [
    "# Create matrix\n",
    "matrix = np.array([[1, 2, 3],\n",
    "                   [4, 5, 6],\n",
    "                   [7, 8, 9]])\n",
    "\n",
    "print(\"Matrix\\n\",matrix)\n",
    "\n",
    "# Select second row\n",
    "print(\"Second row of Matrix\\n\",matrix[1,:])\n",
    "print(\"Third coloumn of Matrix\\n\",matrix[:1,2])"
   ]
  },
  {
   "cell_type": "code",
   "execution_count": 20,
   "metadata": {},
   "outputs": [
    {
     "name": "stdout",
     "output_type": "stream",
     "text": [
      "Tensor\n",
      " [[[[1 1]\n",
      "   [1 1]]\n",
      "\n",
      "  [[2 2]\n",
      "   [2 2]]]\n",
      "\n",
      "\n",
      " [[[3 3]\n",
      "   [3 3]]\n",
      "\n",
      "  [[4 4]\n",
      "   [4 4]]]]\n"
     ]
    }
   ],
   "source": [
    "# Create Tensor\n",
    "tensor = np.array([ [[[1, 1], [1, 1]], [[2, 2], [2, 2]]],\n",
    "                    [[[3, 3], [3, 3]], [[4, 4], [4, 4]]] ])\n",
    "\n",
    "print(\"Tensor\\n\",tensor)"
   ]
  },
  {
   "cell_type": "markdown",
   "metadata": {},
   "source": [
    "### Matrix properties"
   ]
  },
  {
   "cell_type": "code",
   "execution_count": 21,
   "metadata": {},
   "outputs": [
    {
     "name": "stdout",
     "output_type": "stream",
     "text": [
      "Matrix Shape: (3, 3)\n",
      "Number of elements: 9\n",
      "Number of dimentions: 2\n",
      "Average of matrix: 5.0\n",
      "Maximum number: 9\n",
      "Coloumn with minimum numbers: [1 4 7]\n",
      "Diagnol of matrix: [1 5 9]\n",
      "Determinant of matrix: -9.51619735392994e-16\n"
     ]
    }
   ],
   "source": [
    "# Create matrix\n",
    "matrix = np.array([[1, 2, 3],\n",
    "                   [4, 5, 6],\n",
    "                   [7, 8, 9]])\n",
    "\n",
    "print(\"Matrix Shape:\",matrix.shape)\n",
    "print(\"Number of elements:\",matrix.size)\n",
    "print(\"Number of dimentions:\",matrix.ndim)\n",
    "print(\"Average of matrix:\",np.mean(matrix))\n",
    "print(\"Maximum number:\",np.max(matrix))\n",
    "print(\"Coloumn with minimum numbers:\",np.min(matrix, axis=1))\n",
    "print(\"Diagnol of matrix:\",matrix.diagonal())\n",
    "print(\"Determinant of matrix:\",np.linalg.det(matrix))"
   ]
  },
  {
   "cell_type": "markdown",
   "metadata": {},
   "source": [
    "### Matrix Operations"
   ]
  },
  {
   "cell_type": "code",
   "execution_count": 22,
   "metadata": {},
   "outputs": [
    {
     "name": "stdout",
     "output_type": "stream",
     "text": [
      "Flattened Matrix\n",
      " [1 2 3 4 5 6 7 8 9]\n",
      "Reshaping Matrix\n",
      " [[1]\n",
      " [2]\n",
      " [3]\n",
      " [4]\n",
      " [5]\n",
      " [6]\n",
      " [7]\n",
      " [8]\n",
      " [9]]\n",
      "Inversed Matrix\n",
      " [[ 3.15251974e+15 -6.30503948e+15  3.15251974e+15]\n",
      " [-6.30503948e+15  1.26100790e+16 -6.30503948e+15]\n",
      " [ 3.15251974e+15 -6.30503948e+15  3.15251974e+15]]\n",
      "Transposed Matrix\n",
      " [[1 4 7]\n",
      " [2 5 8]\n",
      " [3 6 9]]\n"
     ]
    }
   ],
   "source": [
    "print(\"Flattened Matrix\\n\",matrix.flatten())\n",
    "print(\"Reshaping Matrix\\n\",matrix.reshape(9,1))\n",
    "print(\"Inversed Matrix\\n\",np.linalg.inv(matrix))\n",
    "print(\"Transposed Matrix\\n\",matrix.T)"
   ]
  },
  {
   "cell_type": "code",
   "execution_count": 23,
   "metadata": {},
   "outputs": [
    {
     "name": "stdout",
     "output_type": "stream",
     "text": [
      "Matrix Addition\n",
      " [[ 2  4  2]\n",
      " [ 2  4  2]\n",
      " [ 2  4 10]]\n",
      "Scalar Multiplication\n",
      " [[ 1  3  1]\n",
      " [ 1  3  1]\n",
      " [ 1  3 16]]\n",
      "Matrix Addition\n",
      " [[ 3  9 10]\n",
      " [ 3  9 10]\n",
      " [ 4 12 18]]\n"
     ]
    }
   ],
   "source": [
    "# Create matrix\n",
    "matrix_a = np.array([[1, 1, 1],\n",
    "                     [1, 1, 1],\n",
    "                     [1, 1, 2]])\n",
    "\n",
    "# Create matrix\n",
    "matrix_b = np.array([[1, 3, 1],\n",
    "                     [1, 3, 1],\n",
    "                     [1, 3, 8]])\n",
    "\n",
    "print(\"Matrix Addition\\n\",np.add(matrix_a, matrix_b))\n",
    "print(\"Scalar Multiplication\\n\",np.multiply(matrix_a, matrix_b))\n",
    "print(\"Matrix Addition\\n\",np.dot(matrix_a, matrix_b))\n"
   ]
  },
  {
   "cell_type": "markdown",
   "metadata": {},
   "source": [
    "### Pandas"
   ]
  },
  {
   "cell_type": "code",
   "execution_count": 24,
   "metadata": {},
   "outputs": [],
   "source": [
    "import pandas as pd"
   ]
  },
  {
   "cell_type": "code",
   "execution_count": 37,
   "metadata": {},
   "outputs": [
    {
     "ename": "FileNotFoundError",
     "evalue": "File b'Income.csv' does not exist",
     "output_type": "error",
     "traceback": [
      "\u001b[1;31m---------------------------------------------------------------------------\u001b[0m",
      "\u001b[1;31mFileNotFoundError\u001b[0m                         Traceback (most recent call last)",
      "\u001b[1;32m<ipython-input-37-5371cf777e33>\u001b[0m in \u001b[0;36m<module>\u001b[1;34m()\u001b[0m\n\u001b[1;32m----> 1\u001b[1;33m \u001b[0mdf\u001b[0m\u001b[1;33m=\u001b[0m\u001b[0mpd\u001b[0m\u001b[1;33m.\u001b[0m\u001b[0mread_csv\u001b[0m\u001b[1;33m(\u001b[0m\u001b[1;34m\"Income.csv\"\u001b[0m\u001b[1;33m)\u001b[0m\u001b[1;33m\u001b[0m\u001b[0m\n\u001b[0m\u001b[0;32m      2\u001b[0m \u001b[0mprint\u001b[0m\u001b[1;33m(\u001b[0m\u001b[1;34m\"Data\\n\"\u001b[0m\u001b[1;33m)\u001b[0m\u001b[1;33m\u001b[0m\u001b[0m\n\u001b[0;32m      3\u001b[0m \u001b[0mdf\u001b[0m\u001b[1;33m\u001b[0m\u001b[0m\n",
      "\u001b[1;32m~\\Anaconda3\\lib\\site-packages\\pandas\\io\\parsers.py\u001b[0m in \u001b[0;36mparser_f\u001b[1;34m(filepath_or_buffer, sep, delimiter, header, names, index_col, usecols, squeeze, prefix, mangle_dupe_cols, dtype, engine, converters, true_values, false_values, skipinitialspace, skiprows, nrows, na_values, keep_default_na, na_filter, verbose, skip_blank_lines, parse_dates, infer_datetime_format, keep_date_col, date_parser, dayfirst, iterator, chunksize, compression, thousands, decimal, lineterminator, quotechar, quoting, escapechar, comment, encoding, dialect, tupleize_cols, error_bad_lines, warn_bad_lines, skipfooter, doublequote, delim_whitespace, low_memory, memory_map, float_precision)\u001b[0m\n\u001b[0;32m    676\u001b[0m                     skip_blank_lines=skip_blank_lines)\n\u001b[0;32m    677\u001b[0m \u001b[1;33m\u001b[0m\u001b[0m\n\u001b[1;32m--> 678\u001b[1;33m         \u001b[1;32mreturn\u001b[0m \u001b[0m_read\u001b[0m\u001b[1;33m(\u001b[0m\u001b[0mfilepath_or_buffer\u001b[0m\u001b[1;33m,\u001b[0m \u001b[0mkwds\u001b[0m\u001b[1;33m)\u001b[0m\u001b[1;33m\u001b[0m\u001b[0m\n\u001b[0m\u001b[0;32m    679\u001b[0m \u001b[1;33m\u001b[0m\u001b[0m\n\u001b[0;32m    680\u001b[0m     \u001b[0mparser_f\u001b[0m\u001b[1;33m.\u001b[0m\u001b[0m__name__\u001b[0m \u001b[1;33m=\u001b[0m \u001b[0mname\u001b[0m\u001b[1;33m\u001b[0m\u001b[0m\n",
      "\u001b[1;32m~\\Anaconda3\\lib\\site-packages\\pandas\\io\\parsers.py\u001b[0m in \u001b[0;36m_read\u001b[1;34m(filepath_or_buffer, kwds)\u001b[0m\n\u001b[0;32m    438\u001b[0m \u001b[1;33m\u001b[0m\u001b[0m\n\u001b[0;32m    439\u001b[0m     \u001b[1;31m# Create the parser.\u001b[0m\u001b[1;33m\u001b[0m\u001b[1;33m\u001b[0m\u001b[0m\n\u001b[1;32m--> 440\u001b[1;33m     \u001b[0mparser\u001b[0m \u001b[1;33m=\u001b[0m \u001b[0mTextFileReader\u001b[0m\u001b[1;33m(\u001b[0m\u001b[0mfilepath_or_buffer\u001b[0m\u001b[1;33m,\u001b[0m \u001b[1;33m**\u001b[0m\u001b[0mkwds\u001b[0m\u001b[1;33m)\u001b[0m\u001b[1;33m\u001b[0m\u001b[0m\n\u001b[0m\u001b[0;32m    441\u001b[0m \u001b[1;33m\u001b[0m\u001b[0m\n\u001b[0;32m    442\u001b[0m     \u001b[1;32mif\u001b[0m \u001b[0mchunksize\u001b[0m \u001b[1;32mor\u001b[0m \u001b[0miterator\u001b[0m\u001b[1;33m:\u001b[0m\u001b[1;33m\u001b[0m\u001b[0m\n",
      "\u001b[1;32m~\\Anaconda3\\lib\\site-packages\\pandas\\io\\parsers.py\u001b[0m in \u001b[0;36m__init__\u001b[1;34m(self, f, engine, **kwds)\u001b[0m\n\u001b[0;32m    785\u001b[0m             \u001b[0mself\u001b[0m\u001b[1;33m.\u001b[0m\u001b[0moptions\u001b[0m\u001b[1;33m[\u001b[0m\u001b[1;34m'has_index_names'\u001b[0m\u001b[1;33m]\u001b[0m \u001b[1;33m=\u001b[0m \u001b[0mkwds\u001b[0m\u001b[1;33m[\u001b[0m\u001b[1;34m'has_index_names'\u001b[0m\u001b[1;33m]\u001b[0m\u001b[1;33m\u001b[0m\u001b[0m\n\u001b[0;32m    786\u001b[0m \u001b[1;33m\u001b[0m\u001b[0m\n\u001b[1;32m--> 787\u001b[1;33m         \u001b[0mself\u001b[0m\u001b[1;33m.\u001b[0m\u001b[0m_make_engine\u001b[0m\u001b[1;33m(\u001b[0m\u001b[0mself\u001b[0m\u001b[1;33m.\u001b[0m\u001b[0mengine\u001b[0m\u001b[1;33m)\u001b[0m\u001b[1;33m\u001b[0m\u001b[0m\n\u001b[0m\u001b[0;32m    788\u001b[0m \u001b[1;33m\u001b[0m\u001b[0m\n\u001b[0;32m    789\u001b[0m     \u001b[1;32mdef\u001b[0m \u001b[0mclose\u001b[0m\u001b[1;33m(\u001b[0m\u001b[0mself\u001b[0m\u001b[1;33m)\u001b[0m\u001b[1;33m:\u001b[0m\u001b[1;33m\u001b[0m\u001b[0m\n",
      "\u001b[1;32m~\\Anaconda3\\lib\\site-packages\\pandas\\io\\parsers.py\u001b[0m in \u001b[0;36m_make_engine\u001b[1;34m(self, engine)\u001b[0m\n\u001b[0;32m   1012\u001b[0m     \u001b[1;32mdef\u001b[0m \u001b[0m_make_engine\u001b[0m\u001b[1;33m(\u001b[0m\u001b[0mself\u001b[0m\u001b[1;33m,\u001b[0m \u001b[0mengine\u001b[0m\u001b[1;33m=\u001b[0m\u001b[1;34m'c'\u001b[0m\u001b[1;33m)\u001b[0m\u001b[1;33m:\u001b[0m\u001b[1;33m\u001b[0m\u001b[0m\n\u001b[0;32m   1013\u001b[0m         \u001b[1;32mif\u001b[0m \u001b[0mengine\u001b[0m \u001b[1;33m==\u001b[0m \u001b[1;34m'c'\u001b[0m\u001b[1;33m:\u001b[0m\u001b[1;33m\u001b[0m\u001b[0m\n\u001b[1;32m-> 1014\u001b[1;33m             \u001b[0mself\u001b[0m\u001b[1;33m.\u001b[0m\u001b[0m_engine\u001b[0m \u001b[1;33m=\u001b[0m \u001b[0mCParserWrapper\u001b[0m\u001b[1;33m(\u001b[0m\u001b[0mself\u001b[0m\u001b[1;33m.\u001b[0m\u001b[0mf\u001b[0m\u001b[1;33m,\u001b[0m \u001b[1;33m**\u001b[0m\u001b[0mself\u001b[0m\u001b[1;33m.\u001b[0m\u001b[0moptions\u001b[0m\u001b[1;33m)\u001b[0m\u001b[1;33m\u001b[0m\u001b[0m\n\u001b[0m\u001b[0;32m   1015\u001b[0m         \u001b[1;32melse\u001b[0m\u001b[1;33m:\u001b[0m\u001b[1;33m\u001b[0m\u001b[0m\n\u001b[0;32m   1016\u001b[0m             \u001b[1;32mif\u001b[0m \u001b[0mengine\u001b[0m \u001b[1;33m==\u001b[0m \u001b[1;34m'python'\u001b[0m\u001b[1;33m:\u001b[0m\u001b[1;33m\u001b[0m\u001b[0m\n",
      "\u001b[1;32m~\\Anaconda3\\lib\\site-packages\\pandas\\io\\parsers.py\u001b[0m in \u001b[0;36m__init__\u001b[1;34m(self, src, **kwds)\u001b[0m\n\u001b[0;32m   1706\u001b[0m         \u001b[0mkwds\u001b[0m\u001b[1;33m[\u001b[0m\u001b[1;34m'usecols'\u001b[0m\u001b[1;33m]\u001b[0m \u001b[1;33m=\u001b[0m \u001b[0mself\u001b[0m\u001b[1;33m.\u001b[0m\u001b[0musecols\u001b[0m\u001b[1;33m\u001b[0m\u001b[0m\n\u001b[0;32m   1707\u001b[0m \u001b[1;33m\u001b[0m\u001b[0m\n\u001b[1;32m-> 1708\u001b[1;33m         \u001b[0mself\u001b[0m\u001b[1;33m.\u001b[0m\u001b[0m_reader\u001b[0m \u001b[1;33m=\u001b[0m \u001b[0mparsers\u001b[0m\u001b[1;33m.\u001b[0m\u001b[0mTextReader\u001b[0m\u001b[1;33m(\u001b[0m\u001b[0msrc\u001b[0m\u001b[1;33m,\u001b[0m \u001b[1;33m**\u001b[0m\u001b[0mkwds\u001b[0m\u001b[1;33m)\u001b[0m\u001b[1;33m\u001b[0m\u001b[0m\n\u001b[0m\u001b[0;32m   1709\u001b[0m \u001b[1;33m\u001b[0m\u001b[0m\n\u001b[0;32m   1710\u001b[0m         \u001b[0mpassed_names\u001b[0m \u001b[1;33m=\u001b[0m \u001b[0mself\u001b[0m\u001b[1;33m.\u001b[0m\u001b[0mnames\u001b[0m \u001b[1;32mis\u001b[0m \u001b[1;32mNone\u001b[0m\u001b[1;33m\u001b[0m\u001b[0m\n",
      "\u001b[1;32mpandas\\_libs\\parsers.pyx\u001b[0m in \u001b[0;36mpandas._libs.parsers.TextReader.__cinit__\u001b[1;34m()\u001b[0m\n",
      "\u001b[1;32mpandas\\_libs\\parsers.pyx\u001b[0m in \u001b[0;36mpandas._libs.parsers.TextReader._setup_parser_source\u001b[1;34m()\u001b[0m\n",
      "\u001b[1;31mFileNotFoundError\u001b[0m: File b'Income.csv' does not exist"
     ]
    }
   ],
   "source": [
    "df=pd.read_csv(\"Income.csv\")\n",
    "print(\"Data\\n\")\n",
    "df"
   ]
  },
  {
   "cell_type": "code",
   "execution_count": null,
   "metadata": {},
   "outputs": [],
   "source": [
    "print(\"Top Elements\\n\")\n",
    "df.head(3)"
   ]
  },
  {
   "cell_type": "code",
   "execution_count": null,
   "metadata": {},
   "outputs": [],
   "source": [
    "print(\"Bottom Elements\\n\")\n",
    "df.tail(3)"
   ]
  },
  {
   "cell_type": "code",
   "execution_count": null,
   "metadata": {},
   "outputs": [],
   "source": [
    "print(\"Specific Coloumn\\n\")\n",
    "df['State'].head(3)"
   ]
  },
  {
   "cell_type": "code",
   "execution_count": null,
   "metadata": {},
   "outputs": [],
   "source": [
    "print(\"Replace negative numbers with NaN\\n\")\n",
    "df.replace(-999,np.nan)"
   ]
  },
  {
   "cell_type": "markdown",
   "metadata": {},
   "source": [
    "## Matplotlib"
   ]
  },
  {
   "cell_type": "code",
   "execution_count": 38,
   "metadata": {},
   "outputs": [],
   "source": [
    "import matplotlib.pyplot as plt\n",
    "import matplotlib.mlab as mlab"
   ]
  },
  {
   "cell_type": "markdown",
   "metadata": {},
   "source": [
    "### Line Plot"
   ]
  },
  {
   "cell_type": "code",
   "execution_count": 39,
   "metadata": {
    "scrolled": true
   },
   "outputs": [
    {
     "data": {
      "image/png": "[encoded data removed]",
      "text/plain": [
       "<Figure size 432x288 with 1 Axes>"
      ]
     },
     "metadata": {},
     "output_type": "display_data"
    }
   ],
   "source": [
    "# Line plot\n",
    "plt.plot([1,2,3,4],[3,4,5,6])\n",
    "plt.xlabel('some numbers')\n",
    "plt.ylabel('some numbers')\n",
    "plt.show()"
   ]
  },
  {
   "cell_type": "code",
   "execution_count": 40,
   "metadata": {},
   "outputs": [
    {
     "data": {
      "image/png": "[encoded data removed]",
      "text/plain": [
       "<Figure size 432x288 with 1 Axes>"
      ]
     },
     "metadata": {},
     "output_type": "display_data"
    }
   ],
   "source": [
    "### Adding elements to line plots\n",
    "t = np.arange(0.0, 2.0, 0.01) # Generate equally space numbers between 0 and 2\n",
    "s = 1 + np.sin(2*np.pi*t)  # Apply sin function to the random numbers\n",
    "plt.plot(t, s)\n",
    "\n",
    "plt.xlabel('time (s)')\n",
    "plt.ylabel('voltage (mV)')\n",
    "plt.title('About as simple as it gets, folks')\n",
    "plt.grid(True)\n",
    "plt.savefig(\"test.png\") # Save a plot. Check the directory\n",
    "plt.show()"
   ]
  },
  {
   "cell_type": "markdown",
   "metadata": {},
   "source": [
    "### Bar Plot"
   ]
  },
  {
   "cell_type": "code",
   "execution_count": 41,
   "metadata": {},
   "outputs": [
    {
     "data": {
      "image/png": "[encoded data removed]",
      "text/plain": [
       "<Figure size 432x288 with 1 Axes>"
      ]
     },
     "metadata": {},
     "output_type": "display_data"
    }
   ],
   "source": [
    "y = [3, 10, 7, 5, 3, 4.5, 6, 8.1]\n",
    "x = range(len(y))\n",
    "width = 1/1.5\n",
    "plt.bar(x, y, width, color=\"blue\")\n",
    "plt.show()"
   ]
  },
  {
   "cell_type": "markdown",
   "metadata": {},
   "source": [
    "### Scatter Plot"
   ]
  },
  {
   "cell_type": "code",
   "execution_count": 42,
   "metadata": {
    "scrolled": true
   },
   "outputs": [
    {
     "data": {
      "image/png": "[encoded data removed]",
      "text/plain": [
       "<Figure size 432x288 with 1 Axes>"
      ]
     },
     "metadata": {},
     "output_type": "display_data"
    }
   ],
   "source": [
    "N = 50\n",
    "# Generate random numbers\n",
    "x = np.random.rand(N)\n",
    "y = np.random.rand(N)\n",
    "colors = np.random.rand(N)\n",
    "area = np.pi * (15 * np.random.rand(N))**2  # 0 to 15 point radii\n",
    "\n",
    "plt.scatter(x, y, s=area, c=colors, alpha=0.5)\n",
    "plt.show()"
   ]
  },
  {
   "cell_type": "markdown",
   "metadata": {},
   "source": [
    "### Histogram"
   ]
  },
  {
   "cell_type": "code",
   "execution_count": 43,
   "metadata": {
    "scrolled": true
   },
   "outputs": [
    {
     "name": "stderr",
     "output_type": "stream",
     "text": [
      "C:\\Users\\Dharmesh-PC\\Anaconda3\\lib\\site-packages\\matplotlib\\axes\\_axes.py:6571: UserWarning: The 'normed' kwarg is deprecated, and has been replaced by the 'density' kwarg.\n",
      "  warnings.warn(\"The 'normed' kwarg is deprecated, and has been \"\n",
      "C:\\Users\\Dharmesh-PC\\Anaconda3\\lib\\site-packages\\ipykernel_launcher.py:8: MatplotlibDeprecationWarning: scipy.stats.norm.pdf\n",
      "  \n"
     ]
    },
    {
     "data": {
      "image/png": "[encoded data removed]",
      "text/plain": [
       "<Figure size 432x288 with 1 Axes>"
      ]
     },
     "metadata": {},
     "output_type": "display_data"
    }
   ],
   "source": [
    "mu, sigma = 100, 15\n",
    "x = mu + sigma*np.random.randn(10000) # Generate random values with some distribution\n",
    "\n",
    "# the histogram of the data\n",
    "n, bins, patches = plt.hist(x, 50, normed=1, facecolor='green', alpha=0.75)\n",
    "\n",
    "# add a 'best fit' line\n",
    "y = mlab.normpdf( bins, mu, sigma)\n",
    "l = plt.plot(bins, y, 'r--', linewidth=1)\n",
    "\n",
    "plt.xlabel('Smarts')\n",
    "plt.ylabel('Probability')\n",
    "plt.title(r'$\\mathrm{Histogram\\ of\\ IQ:}\\ \\mu=100,\\ \\sigma=15$')\n",
    "plt.axis([40, 160, 0, 0.03])\n",
    "plt.grid(True)\n",
    "\n",
    "plt.show()"
   ]
  },
  {
   "cell_type": "markdown",
   "metadata": {},
   "source": [
    "### Pie Chart"
   ]
  },
  {
   "cell_type": "code",
   "execution_count": 44,
   "metadata": {},
   "outputs": [
    {
     "data": {
      "image/png": "[encoded data removed]",
      "text/plain": [
       "<Figure size 432x288 with 1 Axes>"
      ]
     },
     "metadata": {},
     "output_type": "display_data"
    }
   ],
   "source": [
    "# Pie chart, where the slices will be ordered and plotted counter-clockwise:\n",
    "labels = 'Frogs', 'Hogs', 'Dogs', 'Logs'\n",
    "sizes = [15, 30, 45, 10]\n",
    "explode = (0, 0.1, 0, 0)  # only \"explode\" the 2nd slice (i.e. 'Hogs')\n",
    "\n",
    "fig1, ax1 = plt.subplots()\n",
    "ax1.pie(sizes, explode=explode, labels=labels, autopct='%1.1f%%',\n",
    "        shadow=True, startangle=90)\n",
    "ax1.axis('equal')  # Equal aspect ratio ensures that pie is drawn as a circle.\n",
    "\n",
    "plt.show()"
   ]
  }
 ],
 "metadata": {
  "kernelspec": {
   "display_name": "Python 3",
   "language": "python",
   "name": "python3"
  },
  "language_info": {
   "codemirror_mode": {
    "name": "ipython",
    "version": 3
   },
   "file_extension": ".py",
   "mimetype": "text/x-python",
   "name": "python",
   "nbconvert_exporter": "python",
   "pygments_lexer": "ipython3",
   "version": "3.6.6"
  }
 },
 "nbformat": 4,
 "nbformat_minor": 2
}
